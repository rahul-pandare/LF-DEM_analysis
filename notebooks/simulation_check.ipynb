{
 "cells": [
  {
   "cell_type": "code",
   "execution_count": 1,
   "id": "15e3166a-5c79-4486-84eb-d24bd967872e",
   "metadata": {},
   "outputs": [],
   "source": [
    "## tools to check specific items in simulations"
   ]
  },
  {
   "cell_type": "code",
   "execution_count": 7,
   "id": "87e1c1db-bcf5-4d59-852f-3e22d02a445d",
   "metadata": {},
   "outputs": [],
   "source": [
    "import os\n",
    "import glob\n",
    "import matplotlib               # type: ignore\n",
    "import numpy             as np  # type: ignore\n",
    "import matplotlib.pyplot as plt # type: ignore\n",
    "import matplotlib.colors as mcolors\n",
    "import platform\n",
    "from   pathlib           import Path\n",
    "import importlib\n",
    "import readFiles\n",
    "import pandas as pd\n",
    "importlib.reload(readFiles)\n",
    "\n",
    "# Matplotlib rc parameters modification\n",
    "plt.rcParams.update({\n",
    "  \"figure.max_open_warning\" : 0,\n",
    "  \"text.usetex\"             : True,\n",
    "  \"text.latex.preamble\"     : r\"\\usepackage{amsmath, bm, type1cm}\",  # Added \\bm for bold math\n",
    "  \"figure.autolayout\"       : True,\n",
    "  \"font.family\"             : \"STIXGeneral\",\n",
    "  \"mathtext.fontset\"        : \"stix\",\n",
    "  \"font.size\"               : 8,\n",
    "  \"xtick.labelsize\"         : 8,\n",
    "  \"ytick.labelsize\"         : 8,\n",
    "  \"lines.linewidth\"         : 1,\n",
    "  \"lines.markersize\"        : 5,\n",
    "})\n",
    "#plt.rcParams['text.latex.preamble']= r\"\\usepackage{amsmath}\"\n",
    "matplotlib.rc('text', usetex=True)\n",
    "matplotlib.rcParams['text.latex.preamble'] = r'\\boldmath'\n",
    "\n",
    "colors = ['#4a91b5', '#e68139', '#5da258', '#87629b', '#1b9e77']\n",
    "\n",
    "\n",
    "if platform.system() == 'Darwin':  # macOS\n",
    "    topDir = Path(\"/Volumes/rahul_2TB/high_bidispersity/new_data/\")\n",
    "    #fig_save_path = Path(\"/Users/rahul/City College Dropbox/Rahul Pandare/CUNY/research/bidisperse_project/figures/ang_vel/\")\n",
    "elif platform.system() == 'Linux':\n",
    "    topDir = Path(\"/media/rahul/rahul_2TB/high_bidispersity/new_data/\")\n",
    "    #fig_save_path = Path(\"/media/Linux_1TB/City College Dropbox/Rahul Pandare/CUNY/research/bidisperse_project/figures/ang_vel/\")\n",
    "else:\n",
    "    raise OSError(\"Unsupported OS\")"
   ]
  },
  {
   "cell_type": "code",
   "execution_count": 11,
   "id": "48702c53-4521-4afb-81c9-c18b792778fa",
   "metadata": {},
   "outputs": [
    {
     "name": "stdout",
     "output_type": "stream",
     "text": [
      "phi_0.77/ar_1.4/Vr_0.25/run_1 - negative shear rate, gamma :  10.20\n",
      "phi_0.77/ar_2.0/Vr_0.25/run_2 - negative shear rate, gamma :  14.76\n"
     ]
    }
   ],
   "source": [
    "# Checking for jamming in new data simulations\n",
    "\n",
    "print('Cluster not mounted') if not os.path.exists(topDir) else None\n",
    "\n",
    "#Parameters\n",
    "NP   = 1000\n",
    "phi  = [0.72, 0.74, 0.75, 0.76, 0.765, 0.77, 0.78, 0.785, 0.79, 0.795, 0.8]\n",
    "zeta = ['0.25', '0.5', '0.75']\n",
    "ar   = [1.4, 2.0, 4.0]\n",
    "numRuns  = 2\n",
    "\n",
    "s=0\n",
    "for j in range(len(phi)):\n",
    "    phir = '{:.3f}'.format(phi[j]) if len(str(phi[j]).split('.')[1])>2 else '{:.2f}'.format(phi[j])\n",
    "    for k in range(len(ar)):\n",
    "        for l in range(len(zeta)):\n",
    "            for m in range (numRuns):\n",
    "                file_name = f\"{topDir}/NP_{NP}/phi_{phir}/ar_{ar[k]:.1f}/Vr_{zeta[l]}/run_{m+1}\"\n",
    "                if os.path.exists(file_name+'/data_random_seed_params_stress100r_shear.dat'):\n",
    "                    #print(file_name+'/data_random_seed_params_stress100r_shear.dat')\n",
    "                    with open(file_name+'/data_random_seed_params_stress100r_shear.dat','r') as file:\n",
    "                        dff = pd.read_csv(file, delimiter=' ', header=None,skiprows=37)\n",
    "                        for idx, item in enumerate(dff.iloc[:, 2]):\n",
    "                            #print(item)\n",
    "                            if item<0:\n",
    "                                #print('/NP_'+str(NP[i])+'/phi_'+phir+'/ar_'+str(ar[k])+'/run_'+str(l+1)+' - negative shear rate')\n",
    "                                print(f'phi_{phir}/ar_{ar[k]:.1f}/Vr_{zeta[l]}/run_{m+1} - negative shear rate, gamma : {idx/100: .2f}')\n",
    "                                s+=1\n",
    "                                break\n",
    "                        for item in dff.iloc[:,3]:  \n",
    "                                if item > 1e6:\n",
    "                                    #print('/NP_'+str(NP[i])+'/phi_'+\"{:.2f}\".format(phi[j])+'/ar_'+str(ar[k])+'/run_'+str(l+1)+' - high visc')\n",
    "                                    print(f'phi_{phir}/ar_{ar[k]:.1f}/Vr_{zeta[l]}/run_{m+1} - high visc')\n",
    "                                    condv=True\n",
    "                                    s+=1\n",
    "                                    break\n",
    "                # else:\n",
    "                #     print(f'Path does not exist - {file_name}')\n",
    "if s==0:\n",
    "    print('\\n no anomaly in viscosity or shear rate is found\\n')"
   ]
  }
 ],
 "metadata": {
  "kernelspec": {
   "display_name": "Python 3 (ipykernel)",
   "language": "python",
   "name": "python3"
  },
  "language_info": {
   "codemirror_mode": {
    "name": "ipython",
    "version": 3
   },
   "file_extension": ".py",
   "mimetype": "text/x-python",
   "name": "python",
   "nbconvert_exporter": "python",
   "pygments_lexer": "ipython3",
   "version": "3.12.4"
  }
 },
 "nbformat": 4,
 "nbformat_minor": 5
}
